{
 "cells": [
  {
   "cell_type": "code",
   "execution_count": 14,
   "metadata": {
    "collapsed": false
   },
   "outputs": [
    {
     "data": {
      "text/plain": [
       "<selenium.webdriver.remote.webelement.WebElement (session=\"7a493c8255c73bf99d1c9eb2c84ada08\", element=\"0.1519865056980938-1\")>"
      ]
     },
     "execution_count": 14,
     "metadata": {},
     "output_type": "execute_result"
    }
   ],
   "source": [
    "from selenium import webdriver\n",
    "import time\n",
    "import string, sys\n",
    "import csv\n",
    "from datetime import datetime\n",
    "#wr=open('output.csv','w')\n",
    "timestamp=datetime.now()\n",
    "path_to_chromedriver = r\"E:\\Development\\chromedriver.exe\"\n",
    "\n",
    "#======\n",
    "#Submitting Job\n",
    "#======\n",
    "\n",
    "#=========Login==============\n",
    "url=r\"https://www.upwork.com/ab/account-security/login\"\n",
    "browser = webdriver.Chrome(executable_path = path_to_chromedriver)\n",
    "browser.get(url)\n",
    "time.sleep(4)    \n",
    "\n",
    "container = browser.find_element_by_class_name('container').get_attribute(\"innerHTML\")\n",
    "#============================\n",
    "\n",
    "#.find_elelment_by_id('login_username')\n",
    "id\n",
    "# daterow=False\n",
    "# skiplast=True\n",
    "\n",
    "# try:\n",
    "#     table = browser.find_element_by_class_name('schedule')\n",
    "#     trs = table.find_elements_by_tag_name(\"tr\")\n",
    "# except:\n",
    "#     print \"\\nCant Access Site\\n\"\n",
    "#     log.write(\"Cant Access Site - \"+str(datetime.now()))\n",
    "#     browser.close()\n",
    "#     raise"
   ]
  },
  {
   "cell_type": "code",
   "execution_count": null,
   "metadata": {
    "collapsed": true
   },
   "outputs": [],
   "source": [
    "try:\n",
    "    recap=browser.find_element_by_class_name(\"recaptcha-checkbox\")\n",
    "    recap.click()\n",
    "except:\n",
    "    pass\n",
    "\n",
    "id=browser.find_element_by_id('login_username')\n",
    "id.send_keys['name@name.com']\n",
    "pw=browser.find_element_by_id('login_password')\n",
    "pw.send_keys['name']\n",
    "#click\n",
    "browser.find_element_by_tag('button').click()"
   ]
  }
 ],
 "metadata": {
  "anaconda-cloud": {},
  "kernelspec": {
   "display_name": "Python [conda root]",
   "language": "python",
   "name": "conda-root-py"
  },
  "language_info": {
   "codemirror_mode": {
    "name": "ipython",
    "version": 3
   },
   "file_extension": ".py",
   "mimetype": "text/x-python",
   "name": "python",
   "nbconvert_exporter": "python",
   "pygments_lexer": "ipython3",
   "version": "3.5.2"
  }
 },
 "nbformat": 4,
 "nbformat_minor": 1
}
