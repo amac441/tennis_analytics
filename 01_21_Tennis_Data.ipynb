{
 "cells": [
  {
   "cell_type": "code",
   "execution_count": 4,
   "metadata": {
    "collapsed": false
   },
   "outputs": [
    {
     "ename": "ERROR",
     "evalue": "Error in read.dta(file): not a Stata version 5-12 .dta file\n",
     "output_type": "error",
     "traceback": [
      "Error in read.dta(file): not a Stata version 5-12 .dta file\nTraceback:\n",
      "1. read.dta(file)"
     ]
    }
   ],
   "source": [
    "library(foreign)\n",
    "file=\"C:\\\\Users\\\\amac\\\\Documents\\\\GoogleDrive\\\\Washu\\\\01-17-Dai\\\\final_data_Katy.dta\"\n",
    "ktfinal = read.dta(file)\n",
    "head(dataset, 10)"
   ]
  },
  {
   "cell_type": "code",
   "execution_count": null,
   "metadata": {
    "collapsed": true
   },
   "outputs": [],
   "source": []
  }
 ],
 "metadata": {
  "anaconda-cloud": {},
  "kernelspec": {
   "display_name": "R",
   "language": "R",
   "name": "ir"
  },
  "language_info": {
   "codemirror_mode": "r",
   "file_extension": ".r",
   "mimetype": "text/x-r-source",
   "name": "R",
   "pygments_lexer": "r",
   "version": "3.3.2"
  }
 },
 "nbformat": 4,
 "nbformat_minor": 1
}
