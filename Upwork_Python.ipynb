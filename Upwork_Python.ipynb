{
 "cells": [
  {
   "cell_type": "code",
   "execution_count": 1,
   "metadata": {
    "collapsed": false
   },
   "outputs": [],
   "source": [
    "# import upwork\n",
    "# client = upwork.Client(public_key, secret_key, **credentials)\n",
    "# data = {'q': 'python', 'title': 'Web Developer'}\n",
    "# client.provider_v2.search_providers(data=data, page_offset=0, page_size=20)\n",
    "\n",
    "\n",
    "from selenium import webdriver\n",
    "import time\n",
    "import string, sys\n",
    "import csv\n",
    "from datetime import datetime\n",
    "#wr=open('output.csv','w')\n",
    "timestamp=datetime.now()\n",
    "path_to_chromedriver = r\"E:\\Development\\chromedriver.exe\"\n",
    "\n",
    "#======\n",
    "#Submitting Job\n",
    "#======\n",
    "\n",
    "url=r\"https://www.upwork.com/ab/account-security/login\"\n",
    "browser = webdriver.Chrome(executable_path = path_to_chromedriver)\n",
    "browser.get(url)\n",
    "time.sleep(4)         \n",
    "# daterow=False\n",
    "# skiplast=True\n",
    "\n",
    "# try:\n",
    "#     table = browser.find_element_by_class_name('schedule')\n",
    "#     trs = table.find_elements_by_tag_name(\"tr\")\n",
    "# except:\n",
    "#     print \"\\nCant Access Site\\n\"\n",
    "#     log.write(\"Cant Access Site - \"+str(datetime.now()))\n",
    "#     browser.close()\n",
    "#     raise"
   ]
  },
  {
   "cell_type": "code",
   "execution_count": null,
   "metadata": {
    "collapsed": true
   },
   "outputs": [],
   "source": []
  }
 ],
 "metadata": {
  "anaconda-cloud": {},
  "kernelspec": {
   "display_name": "Python [conda env:py27]",
   "language": "python",
   "name": "conda-env-py27-py"
  },
  "language_info": {
   "codemirror_mode": {
    "name": "ipython",
    "version": 2
   },
   "file_extension": ".py",
   "mimetype": "text/x-python",
   "name": "python",
   "nbconvert_exporter": "python",
   "pygments_lexer": "ipython2",
   "version": "2.7.13"
  }
 },
 "nbformat": 4,
 "nbformat_minor": 1
}
