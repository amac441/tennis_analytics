{
 "cells": [
  {
   "cell_type": "code",
   "execution_count": 129,
   "metadata": {
    "collapsed": false
   },
   "outputs": [],
   "source": [
    "atp = open(r\"E:\\Development\\0117-DaiAnalysis\\gitHub_atp_project\\tennis_atp\\atp_players.csv\",'r',encoding=\"ISO-8859-1\")\n",
    "aa=atp.readlines()\n",
    "atp.close()\n",
    "atpwrite = open(r\"E:\\Development\\0117-DaiAnalysis\\gitHub_atp_project\\tennis_atp\\atp_players2.csv\",'w',encoding=\"ISO-8859-1\")\n",
    "lister = open(r\"E:\\Development\\0117-DaiAnalysis\\gitHub_atp_project\\tennis_atp\\namelist.txt\",'r',encoding=\"ISO-8859-1\")"
   ]
  },
  {
   "cell_type": "code",
   "execution_count": 130,
   "metadata": {
    "collapsed": false
   },
   "outputs": [
    {
     "data": {
      "text/plain": [
       "'100001,Gardnar,Mulloy,R,19131122,USA\\n'"
      ]
     },
     "execution_count": 130,
     "metadata": {},
     "output_type": "execute_result"
    }
   ],
   "source": [
    "aa[0]"
   ]
  },
  {
   "cell_type": "code",
   "execution_count": 131,
   "metadata": {
    "collapsed": true
   },
   "outputs": [],
   "source": [
    "def cleanname(lastname):\n",
    "    lastname = lastname.split(\"'\")[0]\n",
    "    lastname = lastname.split(\"-\")[0]\n",
    "    lastname = lastname.split(\" \")[0]\n",
    "    print(\"Cleaned\",lastname)\n",
    "    return lastname"
   ]
  },
  {
   "cell_type": "code",
   "execution_count": 132,
   "metadata": {
    "collapsed": false
   },
   "outputs": [
    {
     "name": "stdout",
     "output_type": "stream",
     "text": [
      "Cleaned Dell\n",
      "Cleaned Massimo\n",
      "match\n",
      "dell dellacqua massimo massimo\n",
      "Cleaned Faurel\n",
      "Cleaned Jean\n",
      "match\n",
      "faurel faurel jean jean christophe\n",
      "Cleaned Fleurian\n",
      "Cleaned Jean\n",
      "match\n",
      "fleurian fleurian jean jean philippe\n",
      "Cleaned Gabashvili\n",
      "Cleaned Teimuraz\n",
      "Cleaned Gambill\n",
      "Cleaned Jan\n",
      "match\n",
      "gambill gambill jan jan-michael\n",
      "Cleaned Garcia\n",
      "Cleaned Guillermo\n",
      "match\n",
      "garcia garcia lopez guillermo guillermo\n",
      "match\n",
      "garcia garcia porras guillermo guillermo\n",
      "Cleaned Ghareeb\n",
      "Cleaned Mohammed\n",
      "Cleaned Gimeno\n",
      "Cleaned Daniel\n",
      "match\n",
      "gimeno gimeno traver daniel daniel\n",
      "Cleaned Goellner\n",
      "Cleaned Marc\n",
      "match\n",
      "goellner goellner marc marc kevin\n",
      "Cleaned Gomez\n",
      "Cleaned Sergio\n",
      "match\n",
      "gomez gomez barrio sergio sergio\n",
      "Cleaned Granollers\n",
      "Cleaned Marcel\n",
      "match\n",
      "granollers granollers marcel marcel\n",
      "Cleaned Guzman\n",
      "Cleaned Juan\n",
      "match\n",
      "guzman guzman juan juan pablo\n",
      "match\n",
      "guzman cardoso guzman juan juan felipe\n",
      "Cleaned Haider\n",
      "Cleaned Andreas\n",
      "match\n",
      "haider haider maurer andreas andreas\n",
      "Cleaned Hansen\n",
      "Cleaned Brett\n",
      "match\n",
      "hansen hansen dent brett brett\n",
      "Cleaned Harper\n",
      "Cleaned Levar\n",
      "match\n",
      "harper harper griffith levar levar\n",
      "Cleaned Herm\n",
      "Cleaned Jakub\n",
      "match\n",
      "herm herm zahlava jakub jakub\n",
      "Cleaned Imaz\n",
      "Cleaned Jose\n",
      "Cleaned Jun\n",
      "Cleaned Woong\n",
      "Cleaned Kim\n",
      "Cleaned Bong\n",
      "Cleaned Kim\n",
      "Cleaned Chi\n",
      "Cleaned King\n",
      "Cleaned Daniel\n",
      "match\n",
      "king king turner daniel daniel\n",
      "Cleaned Kirillov\n",
      "Cleaned Evgeniy\n",
      "Cleaned Kodes\n",
      "Cleaned Jan\n",
      "match\n",
      "kodes kodes jr. jan jan\n",
      "match\n",
      "kodes kodes jr jan jan\n",
      "Cleaned Lee\n",
      "Cleaned Hyung\n",
      "Cleaned Lisnard\n",
      "Cleaned Jean\n",
      "match\n",
      "lisnard lisnard jean jean rene\n",
      "Cleaned Lu\n",
      "Cleaned Yen\n",
      "Cleaned MacLagan\n",
      "Cleaned Miles\n",
      "match\n",
      "maclagan maclagan miles miles\n",
      "Cleaned MacPhie\n",
      "Cleaned Brian\n",
      "match\n",
      "macphie macphie brian brian\n",
      "Cleaned Mathieu\n",
      "Cleaned Paul\n",
      "match\n",
      "mathieu mathieu paul paul-henri\n",
      "Cleaned McClune\n",
      "Cleaned Michael\n",
      "match\n",
      "mcclune mcclune michael michael\n",
      "Cleaned McEnroe\n",
      "Cleaned John\n",
      "match\n",
      "mcenroe mcenroe john john\n",
      "Cleaned McEnroe\n",
      "Cleaned Patrick\n",
      "match\n",
      "mcenroe mcenroe patrick patrick\n",
      "Cleaned McGuire\n",
      "Cleaned Wade\n",
      "match\n",
      "mcguire mcguire wade wade\n",
      "Cleaned McLean\n",
      "Cleaned Andrew\n",
      "match\n",
      "mclean mclean andrew andrew\n",
      "Cleaned Mecir\n",
      "Cleaned Miloslav\n",
      "match\n",
      "mecir mecir (sr.) miloslav miloslav\n",
      "match\n",
      "mecir mecir miloslav miloslav\n",
      "Cleaned Middleton\n",
      "Cleaned T.J.\n",
      "Cleaned N\n",
      "Cleaned Claude\n",
      "Cleaned N\n",
      "Cleaned Clement\n",
      "Cleaned Nastase\n",
      "Cleaned Mihnea\n",
      "match\n",
      "nastase nastase mihnea mihnea ion\n",
      "Cleaned O\n",
      "Cleaned Alex\n",
      "Cleaned Perez\n",
      "Cleaned Marcos\n",
      "match\n",
      "perez perez hubert marcos marcos\n",
      "Cleaned Perez\n",
      "Cleaned Guillermo\n",
      "match\n",
      "perez perez-roldan guillermo guillermo\n",
      "match\n",
      "perez celard perez guillermo guillermo\n",
      "Cleaned Perlant\n",
      "Cleaned Jean\n",
      "match\n",
      "perlant perlant jean jean baptiste\n",
      "Cleaned Qureshi\n",
      "Cleaned Aisam\n",
      "match\n",
      "qureshi qureshi aisam aisam ul haq\n",
      "Cleaned Reichel\n",
      "Cleaned Alex\n",
      "match\n",
      "reichel reichel alex alexander\n",
      "match\n",
      "reichel reichel alex alexander\n",
      "Cleaned Roger\n",
      "Cleaned Edouard\n",
      "Cleaned Salva\n",
      "Cleaned Bartolome\n",
      "match\n",
      "salva salva vidal bartolome bartolome\n",
      "Cleaned Sanchez\n",
      "Cleaned Jose\n",
      "match\n",
      "sanchez garcia sanchez jose jose carlos\n",
      "match\n",
      "sanchez sanchez de luna jose jose antonio\n",
      "match\n",
      "sanchez sanchez luque jose jose\n",
      "match\n",
      "sanchez de la torre sanchez jose jose enrique\n",
      "match\n",
      "sanchez blanco sanchez jose jose manuel\n",
      "match\n",
      "sanchez sanchez sierra jose luis jose\n",
      "Cleaned Scherrer\n",
      "Cleaned Jean\n",
      "match\n",
      "scherrer scherrer jean jean claude\n",
      "Cleaned Steeb\n",
      "Cleaned Carl\n",
      "match\n",
      "steeb steeb carl carl-uwe\n",
      "Cleaned Tsonga\n",
      "Cleaned Jo\n",
      "match\n",
      "tsonga tsonga jo jo wilfried\n",
      "Cleaned Viloca\n",
      "Cleaned Juan\n",
      "match\n",
      "viloca viloca puig juan juan albert\n",
      "Cleaned Wahlgren\n",
      "Cleaned Lars\n",
      "match\n",
      "wahlgren wahlgren lars lars anders\n",
      "Cleaned Wang\n",
      "Cleaned Yeu\n",
      "Cleaned Wang\n",
      "Cleaned Yu\n",
      "match\n",
      "wang wang yu yue wei\n",
      "match\n",
      "wang wang yu yu jr\n",
      "match\n",
      "wang wang yu yu\n",
      "match\n",
      "wang wang yu yue\n",
      "match\n",
      "wang hwang yu soonhyun\n",
      "match\n",
      "wang wang yu yu chang\n",
      "match\n",
      "wang wang yu xiao yu\n",
      "Cleaned Washington\n",
      "Cleaned MaliVai\n",
      "match\n",
      "washington washington malivai malivai\n",
      "Cleaned Xia\n",
      "Cleaned Jia\n",
      "Cleaned Yoon\n",
      "Cleaned Yong\n",
      "match\n",
      "yoon yoon yong yong il\n",
      "match\n",
      "yoon yoon yong se yong\n",
      "Cleaned Zhu\n",
      "Cleaned Ben\n",
      "Cleaned Zingman\n",
      "Cleaned Andres\n",
      "Cleaned de\n",
      "Cleaned John\n",
      "Cleaned van\n",
      "Cleaned John\n",
      "Cleaned van\n",
      "Cleaned Dennis\n"
     ]
    }
   ],
   "source": [
    "# for line in lister:\n",
    "for line in lister:\n",
    "    l = eval(line)\n",
    "    lastname = cleanname(l[0])\n",
    "    firstname = cleanname(l[1])\n",
    "    #print(l[0])\n",
    "    atp = open(r\"E:\\Development\\0117-DaiAnalysis\\gitHub_atp_project\\tennis_atp\\atp_players.csv\",'r',encoding=\"ISO-8859-1\")\n",
    "    for i,row in enumerate(aa):\n",
    "        rower=row.split(\",\")\n",
    "        #print(rower[2],rower[1])\n",
    "        if (len(lastname.lower())>3 and len(lastname.lower())>3 and lastname.lower() in rower[2].lower() and firstname.lower() in rower[1].lower()):\n",
    "            #last name and first name matched\n",
    "            print (\"match\")\n",
    "            print (lastname.lower(),rower[2].lower(),firstname.lower(), rower[1].lower())\n",
    "            aa[i]=\",\".join([rower[0],l[1],l[0],rower[3],rower[4],rower[5]])\n",
    "        else:\n",
    "            pass\n"
   ]
  },
  {
   "cell_type": "code",
   "execution_count": 133,
   "metadata": {
    "collapsed": false
   },
   "outputs": [
    {
     "data": {
      "text/plain": [
       "1634852"
      ]
     },
     "execution_count": 133,
     "metadata": {},
     "output_type": "execute_result"
    }
   ],
   "source": [
    "atpwrite.write(\"\".join(aa))"
   ]
  },
  {
   "cell_type": "code",
   "execution_count": 134,
   "metadata": {
    "collapsed": false
   },
   "outputs": [],
   "source": [
    "atp.close()\n",
    "atpwrite.close()\n",
    "lister.close() "
   ]
  },
  {
   "cell_type": "code",
   "execution_count": 121,
   "metadata": {
    "collapsed": false
   },
   "outputs": [
    {
     "data": {
      "text/plain": [
       "'100011,Torben,Ulrich,L,19321004,DEN\\n'"
      ]
     },
     "execution_count": 121,
     "metadata": {},
     "output_type": "execute_result"
    }
   ],
   "source": [
    "aa[10]"
   ]
  },
  {
   "cell_type": "code",
   "execution_count": null,
   "metadata": {
    "collapsed": true
   },
   "outputs": [],
   "source": []
  },
  {
   "cell_type": "code",
   "execution_count": null,
   "metadata": {
    "collapsed": true
   },
   "outputs": [],
   "source": []
  },
  {
   "cell_type": "code",
   "execution_count": 47,
   "metadata": {
    "collapsed": false
   },
   "outputs": [],
   "source": [
    "\n",
    "line2=eval(line)"
   ]
  },
  {
   "cell_type": "code",
   "execution_count": 48,
   "metadata": {
    "collapsed": false
   },
   "outputs": [
    {
     "name": "stdout",
     "output_type": "stream",
     "text": [
      "(\"Dell'Acqua\", 'Massimo')\n"
     ]
    }
   ],
   "source": [
    "print(line2)"
   ]
  },
  {
   "cell_type": "code",
   "execution_count": 49,
   "metadata": {
    "collapsed": false
   },
   "outputs": [
    {
     "name": "stdout",
     "output_type": "stream",
     "text": [
      "Dell'Acqua\n"
     ]
    }
   ],
   "source": [
    "print(line2[0])"
   ]
  },
  {
   "cell_type": "code",
   "execution_count": null,
   "metadata": {
    "collapsed": true
   },
   "outputs": [],
   "source": []
  },
  {
   "cell_type": "code",
   "execution_count": 36,
   "metadata": {
    "collapsed": false
   },
   "outputs": [],
   "source": [
    "def stripquote(text):\n",
    "    if '\"' in text:  #means theres an apostrophe\n",
    "        print(\"found double\",text)\n",
    "        text=text.replace('\"',\"\")\n",
    "    if text[0]==\"'\":\n",
    "        print(\"found first\")\n",
    "        text=text[1:].replace(\"',\",',')\n",
    "    else:\n",
    "        print(\"found last\")\n",
    "        text=text[:-1].replace(\", '\",',')\n",
    "        \n",
    "    return text\n",
    "    \n",
    "line=line.replace(\"\\n\",'')\n",
    "line=line[1:-1] #strip per\n",
    "\n"
   ]
  },
  {
   "cell_type": "code",
   "execution_count": 37,
   "metadata": {
    "collapsed": false
   },
   "outputs": [
    {
     "name": "stdout",
     "output_type": "stream",
     "text": [
      "\"Dell'Acqua\", 'Massimo'\n"
     ]
    }
   ],
   "source": [
    "print(line)"
   ]
  },
  {
   "cell_type": "code",
   "execution_count": 38,
   "metadata": {
    "collapsed": false
   },
   "outputs": [
    {
     "name": "stdout",
     "output_type": "stream",
     "text": [
      "found double \"Dell'Acqua\", 'Massimo'\n",
      "found last\n"
     ]
    }
   ],
   "source": [
    "line=stripquote(line)"
   ]
  },
  {
   "cell_type": "code",
   "execution_count": 41,
   "metadata": {
    "collapsed": false
   },
   "outputs": [
    {
     "ename": "SyntaxError",
     "evalue": "invalid syntax (<ipython-input-41-183d0778218a>, line 1)",
     "output_type": "error",
     "traceback": [
      "\u001b[0;36m  File \u001b[0;32m\"<ipython-input-41-183d0778218a>\"\u001b[0;36m, line \u001b[0;32m1\u001b[0m\n\u001b[0;31m    line=line.split(',')?\u001b[0m\n\u001b[0m                        ^\u001b[0m\n\u001b[0;31mSyntaxError\u001b[0m\u001b[0;31m:\u001b[0m invalid syntax\n"
     ]
    }
   ],
   "source": [
    "line=line.split(',')?"
   ]
  },
  {
   "cell_type": "code",
   "execution_count": 42,
   "metadata": {
    "collapsed": false
   },
   "outputs": [
    {
     "name": "stdout",
     "output_type": "stream",
     "text": [
      "[\"Dell'Acqua\", 'Massimo']\n"
     ]
    }
   ],
   "source": [
    "print(line)"
   ]
  },
  {
   "cell_type": "code",
   "execution_count": null,
   "metadata": {
    "collapsed": true
   },
   "outputs": [],
   "source": []
  }
 ],
 "metadata": {
  "kernelspec": {
   "display_name": "Python [conda root]",
   "language": "python",
   "name": "conda-root-py"
  },
  "language_info": {
   "codemirror_mode": {
    "name": "ipython",
    "version": 3
   },
   "file_extension": ".py",
   "mimetype": "text/x-python",
   "name": "python",
   "nbconvert_exporter": "python",
   "pygments_lexer": "ipython3",
   "version": "3.5.2"
  }
 },
 "nbformat": 4,
 "nbformat_minor": 1
}
