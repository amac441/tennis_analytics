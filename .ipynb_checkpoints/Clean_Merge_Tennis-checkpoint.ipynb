{
 "cells": [
  {
   "cell_type": "code",
   "execution_count": 12,
   "metadata": {
    "collapsed": false
   },
   "outputs": [
    {
     "ename": "UnicodeDecodeError",
     "evalue": "'utf-8' codec can't decode byte 0xc6 in position 15: invalid continuation byte\n\nTraceback\n---------\n  File \"C:\\Users\\amac\\Anaconda3\\lib\\site-packages\\dask\\async.py\", line 263, in execute_task\n    result = _execute_task(task, data)\n  File \"C:\\Users\\amac\\Anaconda3\\lib\\site-packages\\dask\\async.py\", line 245, in _execute_task\n    return func(*args2)\n  File \"C:\\Users\\amac\\Anaconda3\\lib\\site-packages\\dask\\compatibility.py\", line 47, in apply\n    return func(*args, **kwargs)\n  File \"C:\\Users\\amac\\Anaconda3\\lib\\site-packages\\dask\\dataframe\\csv.py\", line 47, in bytes_read_csv\n    df = pd.read_csv(bio, **kwargs)\n  File \"C:\\Users\\amac\\Anaconda3\\lib\\site-packages\\pandas\\io\\parsers.py\", line 562, in parser_f\n    return _read(filepath_or_buffer, kwds)\n  File \"C:\\Users\\amac\\Anaconda3\\lib\\site-packages\\pandas\\io\\parsers.py\", line 325, in _read\n    return parser.read()\n  File \"C:\\Users\\amac\\Anaconda3\\lib\\site-packages\\pandas\\io\\parsers.py\", line 815, in read\n    ret = self._engine.read(nrows)\n  File \"C:\\Users\\amac\\Anaconda3\\lib\\site-packages\\pandas\\io\\parsers.py\", line 1314, in read\n    data = self._reader.read(nrows)\n  File \"pandas\\parser.pyx\", line 805, in pandas.parser.TextReader.read (pandas\\parser.c:8748)\n  File \"pandas\\parser.pyx\", line 827, in pandas.parser.TextReader._read_low_memory (pandas\\parser.c:9003)\n  File \"pandas\\parser.pyx\", line 904, in pandas.parser.TextReader._read_rows (pandas\\parser.c:10022)\n  File \"pandas\\parser.pyx\", line 1011, in pandas.parser.TextReader._convert_column_data (pandas\\parser.c:11397)\n  File \"pandas\\parser.pyx\", line 1058, in pandas.parser.TextReader._convert_tokens (pandas\\parser.c:12093)\n  File \"pandas\\parser.pyx\", line 1157, in pandas.parser.TextReader._convert_with_dtype (pandas\\parser.c:13740)\n  File \"pandas\\parser.pyx\", line 1177, in pandas.parser.TextReader._string_convert (pandas\\parser.c:13983)\n  File \"pandas\\parser.pyx\", line 1402, in pandas.parser._string_box_utf8 (pandas\\parser.c:19298)\n",
     "output_type": "error",
     "traceback": [
      "\u001b[0;31m---------------------------------------------------------------------------\u001b[0m",
      "\u001b[0;31mUnicodeDecodeError\u001b[0m                        Traceback (most recent call last)",
      "\u001b[0;32m<ipython-input-12-3ea3cc9a59d4>\u001b[0m in \u001b[0;36m<module>\u001b[0;34m()\u001b[0m\n\u001b[1;32m      5\u001b[0m \u001b[1;33m\u001b[0m\u001b[0m\n\u001b[1;32m      6\u001b[0m \u001b[0mdf\u001b[0m \u001b[1;33m=\u001b[0m \u001b[0mdd\u001b[0m\u001b[1;33m.\u001b[0m\u001b[0mread_csv\u001b[0m\u001b[1;33m(\u001b[0m\u001b[1;34mr\"C:\\Users\\amac\\Documents\\GoogleDrive\\Washu\\01-17-Dai\\comprehensive\\rank*.csv\"\u001b[0m\u001b[1;33m,\u001b[0m\u001b[0mdtype\u001b[0m\u001b[1;33m=\u001b[0m\u001b[1;33m{\u001b[0m\u001b[1;34m\"Birthplace\"\u001b[0m \u001b[1;33m:\u001b[0m \u001b[1;34m\"object\"\u001b[0m\u001b[1;33m,\u001b[0m\u001b[1;34m\"Residence\"\u001b[0m\u001b[1;33m:\u001b[0m\u001b[1;34m\"object\"\u001b[0m\u001b[1;33m}\u001b[0m\u001b[1;33m)\u001b[0m\u001b[1;33m\u001b[0m\u001b[0m\n\u001b[0;32m----> 7\u001b[0;31m \u001b[0mplayers\u001b[0m \u001b[1;33m=\u001b[0m \u001b[0mdf\u001b[0m\u001b[1;33m.\u001b[0m\u001b[0mcompute\u001b[0m\u001b[1;33m(\u001b[0m\u001b[1;33m)\u001b[0m\u001b[1;33m\u001b[0m\u001b[0m\n\u001b[0m\u001b[1;32m      8\u001b[0m \u001b[1;31m# #def mp_import(basefiles, nprocs):\u001b[0m\u001b[1;33m\u001b[0m\u001b[1;33m\u001b[0m\u001b[0m\n\u001b[1;32m      9\u001b[0m \u001b[1;31m# def read_csv(basefiles):\u001b[0m\u001b[1;33m\u001b[0m\u001b[1;33m\u001b[0m\u001b[0m\n",
      "\u001b[0;32mC:\\Users\\amac\\Anaconda3\\lib\\site-packages\\dask\\base.py\u001b[0m in \u001b[0;36mcompute\u001b[0;34m(self, **kwargs)\u001b[0m\n\u001b[1;32m     84\u001b[0m             \u001b[0mExtra\u001b[0m \u001b[0mkeywords\u001b[0m \u001b[0mto\u001b[0m \u001b[0mforward\u001b[0m \u001b[0mto\u001b[0m \u001b[0mthe\u001b[0m \u001b[0mscheduler\u001b[0m\u001b[0;31m \u001b[0m\u001b[0;31m`\u001b[0m\u001b[0;31m`\u001b[0m\u001b[0mget\u001b[0m\u001b[0;31m`\u001b[0m\u001b[0;31m`\u001b[0m \u001b[0mfunction\u001b[0m\u001b[1;33m.\u001b[0m\u001b[1;33m\u001b[0m\u001b[0m\n\u001b[1;32m     85\u001b[0m         \"\"\"\n\u001b[0;32m---> 86\u001b[0;31m         \u001b[1;32mreturn\u001b[0m \u001b[0mcompute\u001b[0m\u001b[1;33m(\u001b[0m\u001b[0mself\u001b[0m\u001b[1;33m,\u001b[0m \u001b[1;33m**\u001b[0m\u001b[0mkwargs\u001b[0m\u001b[1;33m)\u001b[0m\u001b[1;33m[\u001b[0m\u001b[1;36m0\u001b[0m\u001b[1;33m]\u001b[0m\u001b[1;33m\u001b[0m\u001b[0m\n\u001b[0m\u001b[1;32m     87\u001b[0m \u001b[1;33m\u001b[0m\u001b[0m\n\u001b[1;32m     88\u001b[0m     \u001b[1;33m@\u001b[0m\u001b[0mclassmethod\u001b[0m\u001b[1;33m\u001b[0m\u001b[0m\n",
      "\u001b[0;32mC:\\Users\\amac\\Anaconda3\\lib\\site-packages\\dask\\base.py\u001b[0m in \u001b[0;36mcompute\u001b[0;34m(*args, **kwargs)\u001b[0m\n\u001b[1;32m    177\u001b[0m         \u001b[0mdsk\u001b[0m \u001b[1;33m=\u001b[0m \u001b[0mmerge\u001b[0m\u001b[1;33m(\u001b[0m\u001b[0mvar\u001b[0m\u001b[1;33m.\u001b[0m\u001b[0mdask\u001b[0m \u001b[1;32mfor\u001b[0m \u001b[0mvar\u001b[0m \u001b[1;32min\u001b[0m \u001b[0mvariables\u001b[0m\u001b[1;33m)\u001b[0m\u001b[1;33m\u001b[0m\u001b[0m\n\u001b[1;32m    178\u001b[0m     \u001b[0mkeys\u001b[0m \u001b[1;33m=\u001b[0m \u001b[1;33m[\u001b[0m\u001b[0mvar\u001b[0m\u001b[1;33m.\u001b[0m\u001b[0m_keys\u001b[0m\u001b[1;33m(\u001b[0m\u001b[1;33m)\u001b[0m \u001b[1;32mfor\u001b[0m \u001b[0mvar\u001b[0m \u001b[1;32min\u001b[0m \u001b[0mvariables\u001b[0m\u001b[1;33m]\u001b[0m\u001b[1;33m\u001b[0m\u001b[0m\n\u001b[0;32m--> 179\u001b[0;31m     \u001b[0mresults\u001b[0m \u001b[1;33m=\u001b[0m \u001b[0mget\u001b[0m\u001b[1;33m(\u001b[0m\u001b[0mdsk\u001b[0m\u001b[1;33m,\u001b[0m \u001b[0mkeys\u001b[0m\u001b[1;33m,\u001b[0m \u001b[1;33m**\u001b[0m\u001b[0mkwargs\u001b[0m\u001b[1;33m)\u001b[0m\u001b[1;33m\u001b[0m\u001b[0m\n\u001b[0m\u001b[1;32m    180\u001b[0m \u001b[1;33m\u001b[0m\u001b[0m\n\u001b[1;32m    181\u001b[0m     \u001b[0mresults_iter\u001b[0m \u001b[1;33m=\u001b[0m \u001b[0miter\u001b[0m\u001b[1;33m(\u001b[0m\u001b[0mresults\u001b[0m\u001b[1;33m)\u001b[0m\u001b[1;33m\u001b[0m\u001b[0m\n",
      "\u001b[0;32mC:\\Users\\amac\\Anaconda3\\lib\\site-packages\\dask\\threaded.py\u001b[0m in \u001b[0;36mget\u001b[0;34m(dsk, result, cache, num_workers, **kwargs)\u001b[0m\n\u001b[1;32m     56\u001b[0m     results = get_async(pool.apply_async, len(pool._pool), dsk, result,\n\u001b[1;32m     57\u001b[0m                         \u001b[0mcache\u001b[0m\u001b[1;33m=\u001b[0m\u001b[0mcache\u001b[0m\u001b[1;33m,\u001b[0m \u001b[0mqueue\u001b[0m\u001b[1;33m=\u001b[0m\u001b[0mqueue\u001b[0m\u001b[1;33m,\u001b[0m \u001b[0mget_id\u001b[0m\u001b[1;33m=\u001b[0m\u001b[0m_thread_get_id\u001b[0m\u001b[1;33m,\u001b[0m\u001b[1;33m\u001b[0m\u001b[0m\n\u001b[0;32m---> 58\u001b[0;31m                         **kwargs)\n\u001b[0m\u001b[1;32m     59\u001b[0m \u001b[1;33m\u001b[0m\u001b[0m\n\u001b[1;32m     60\u001b[0m     \u001b[1;32mreturn\u001b[0m \u001b[0mresults\u001b[0m\u001b[1;33m\u001b[0m\u001b[0m\n",
      "\u001b[0;32mC:\\Users\\amac\\Anaconda3\\lib\\site-packages\\dask\\async.py\u001b[0m in \u001b[0;36mget_async\u001b[0;34m(apply_async, num_workers, dsk, result, cache, queue, get_id, raise_on_exception, rerun_exceptions_locally, callbacks, **kwargs)\u001b[0m\n\u001b[1;32m    479\u001b[0m                     \u001b[0m_execute_task\u001b[0m\u001b[1;33m(\u001b[0m\u001b[0mtask\u001b[0m\u001b[1;33m,\u001b[0m \u001b[0mdata\u001b[0m\u001b[1;33m)\u001b[0m  \u001b[1;31m# Re-execute locally\u001b[0m\u001b[1;33m\u001b[0m\u001b[0m\n\u001b[1;32m    480\u001b[0m                 \u001b[1;32melse\u001b[0m\u001b[1;33m:\u001b[0m\u001b[1;33m\u001b[0m\u001b[0m\n\u001b[0;32m--> 481\u001b[0;31m                     \u001b[1;32mraise\u001b[0m\u001b[1;33m(\u001b[0m\u001b[0mremote_exception\u001b[0m\u001b[1;33m(\u001b[0m\u001b[0mres\u001b[0m\u001b[1;33m,\u001b[0m \u001b[0mtb\u001b[0m\u001b[1;33m)\u001b[0m\u001b[1;33m)\u001b[0m\u001b[1;33m\u001b[0m\u001b[0m\n\u001b[0m\u001b[1;32m    482\u001b[0m             \u001b[0mstate\u001b[0m\u001b[1;33m[\u001b[0m\u001b[1;34m'cache'\u001b[0m\u001b[1;33m]\u001b[0m\u001b[1;33m[\u001b[0m\u001b[0mkey\u001b[0m\u001b[1;33m]\u001b[0m \u001b[1;33m=\u001b[0m \u001b[0mres\u001b[0m\u001b[1;33m\u001b[0m\u001b[0m\n\u001b[1;32m    483\u001b[0m             \u001b[0mfinish_task\u001b[0m\u001b[1;33m(\u001b[0m\u001b[0mdsk\u001b[0m\u001b[1;33m,\u001b[0m \u001b[0mkey\u001b[0m\u001b[1;33m,\u001b[0m \u001b[0mstate\u001b[0m\u001b[1;33m,\u001b[0m \u001b[0mresults\u001b[0m\u001b[1;33m,\u001b[0m \u001b[0mkeyorder\u001b[0m\u001b[1;33m.\u001b[0m\u001b[0mget\u001b[0m\u001b[1;33m)\u001b[0m\u001b[1;33m\u001b[0m\u001b[0m\n",
      "\u001b[0;31mUnicodeDecodeError\u001b[0m: 'utf-8' codec can't decode byte 0xc6 in position 15: invalid continuation byte\n\nTraceback\n---------\n  File \"C:\\Users\\amac\\Anaconda3\\lib\\site-packages\\dask\\async.py\", line 263, in execute_task\n    result = _execute_task(task, data)\n  File \"C:\\Users\\amac\\Anaconda3\\lib\\site-packages\\dask\\async.py\", line 245, in _execute_task\n    return func(*args2)\n  File \"C:\\Users\\amac\\Anaconda3\\lib\\site-packages\\dask\\compatibility.py\", line 47, in apply\n    return func(*args, **kwargs)\n  File \"C:\\Users\\amac\\Anaconda3\\lib\\site-packages\\dask\\dataframe\\csv.py\", line 47, in bytes_read_csv\n    df = pd.read_csv(bio, **kwargs)\n  File \"C:\\Users\\amac\\Anaconda3\\lib\\site-packages\\pandas\\io\\parsers.py\", line 562, in parser_f\n    return _read(filepath_or_buffer, kwds)\n  File \"C:\\Users\\amac\\Anaconda3\\lib\\site-packages\\pandas\\io\\parsers.py\", line 325, in _read\n    return parser.read()\n  File \"C:\\Users\\amac\\Anaconda3\\lib\\site-packages\\pandas\\io\\parsers.py\", line 815, in read\n    ret = self._engine.read(nrows)\n  File \"C:\\Users\\amac\\Anaconda3\\lib\\site-packages\\pandas\\io\\parsers.py\", line 1314, in read\n    data = self._reader.read(nrows)\n  File \"pandas\\parser.pyx\", line 805, in pandas.parser.TextReader.read (pandas\\parser.c:8748)\n  File \"pandas\\parser.pyx\", line 827, in pandas.parser.TextReader._read_low_memory (pandas\\parser.c:9003)\n  File \"pandas\\parser.pyx\", line 904, in pandas.parser.TextReader._read_rows (pandas\\parser.c:10022)\n  File \"pandas\\parser.pyx\", line 1011, in pandas.parser.TextReader._convert_column_data (pandas\\parser.c:11397)\n  File \"pandas\\parser.pyx\", line 1058, in pandas.parser.TextReader._convert_tokens (pandas\\parser.c:12093)\n  File \"pandas\\parser.pyx\", line 1157, in pandas.parser.TextReader._convert_with_dtype (pandas\\parser.c:13740)\n  File \"pandas\\parser.pyx\", line 1177, in pandas.parser.TextReader._string_convert (pandas\\parser.c:13983)\n  File \"pandas\\parser.pyx\", line 1402, in pandas.parser._string_box_utf8 (pandas\\parser.c:19298)\n"
     ]
    }
   ],
   "source": [
    "import pandas as pd\n",
    "import numpy as np\n",
    "import multiprocessing\n",
    "import dask.dataframe as dd\n",
    "\n",
    "df = dd.read_csv(r\"C:\\Users\\amac\\Documents\\GoogleDrive\\Washu\\01-17-Dai\\comprehensive\\rank*.csv\",dtype={\"Birthplace\" : \"object\",\"Residence\":\"object\",\"Rank\":\"int\"})\n",
    "players = df.compute()\n",
    "# #def mp_import(basefiles, nprocs):\n",
    "# def read_csv(basefiles):\n",
    "#     \"\"\" Reads the base csv\n",
    "#     \"\"\"\n",
    "#     #print (\"Reading\",basefiles)\n",
    "#     file=r\"C:\\Users\\amac\\Documents\\GoogleDrive\\Washu\\01-17-Dai\\comprehensive\\rank%s.csv\" % basefiles\n",
    "#     return pd.read_csv(file,encoding = \"ISO-8859-1\",parse_dates=['Rank Date'])\n",
    "\n",
    "\n",
    "# #===\n",
    "# #Import rankings\n",
    "# #===\n",
    "# basefiles=['1','2','3','4','5']\n",
    "# pool = multiprocessing.Pool(processes=4) # or whatever your hardware can support\n",
    "# # have your pool map the file names to dataframes\n",
    "# df_list = pool.map(read_csv, basefiles)\n",
    "# # reduce the list of dataframes to a single dataframe\n",
    "# players = pd.concat(df_list, ignore_index=True)"
   ]
  },
  {
   "cell_type": "code",
   "execution_count": 7,
   "metadata": {
    "collapsed": false
   },
   "outputs": [
    {
     "ename": "UnicodeDecodeError",
     "evalue": "'utf-8' codec can't decode byte 0xc6 in position 15: invalid continuation byte\n\nTraceback\n---------\n  File \"C:\\Users\\amac\\Anaconda3\\lib\\site-packages\\dask\\async.py\", line 263, in execute_task\n    result = _execute_task(task, data)\n  File \"C:\\Users\\amac\\Anaconda3\\lib\\site-packages\\dask\\async.py\", line 245, in _execute_task\n    return func(*args2)\n  File \"C:\\Users\\amac\\Anaconda3\\lib\\site-packages\\dask\\compatibility.py\", line 47, in apply\n    return func(*args, **kwargs)\n  File \"C:\\Users\\amac\\Anaconda3\\lib\\site-packages\\dask\\dataframe\\csv.py\", line 47, in bytes_read_csv\n    df = pd.read_csv(bio, **kwargs)\n  File \"C:\\Users\\amac\\Anaconda3\\lib\\site-packages\\pandas\\io\\parsers.py\", line 562, in parser_f\n    return _read(filepath_or_buffer, kwds)\n  File \"C:\\Users\\amac\\Anaconda3\\lib\\site-packages\\pandas\\io\\parsers.py\", line 325, in _read\n    return parser.read()\n  File \"C:\\Users\\amac\\Anaconda3\\lib\\site-packages\\pandas\\io\\parsers.py\", line 815, in read\n    ret = self._engine.read(nrows)\n  File \"C:\\Users\\amac\\Anaconda3\\lib\\site-packages\\pandas\\io\\parsers.py\", line 1314, in read\n    data = self._reader.read(nrows)\n  File \"pandas\\parser.pyx\", line 805, in pandas.parser.TextReader.read (pandas\\parser.c:8748)\n  File \"pandas\\parser.pyx\", line 827, in pandas.parser.TextReader._read_low_memory (pandas\\parser.c:9003)\n  File \"pandas\\parser.pyx\", line 904, in pandas.parser.TextReader._read_rows (pandas\\parser.c:10022)\n  File \"pandas\\parser.pyx\", line 1011, in pandas.parser.TextReader._convert_column_data (pandas\\parser.c:11397)\n  File \"pandas\\parser.pyx\", line 1058, in pandas.parser.TextReader._convert_tokens (pandas\\parser.c:12093)\n  File \"pandas\\parser.pyx\", line 1157, in pandas.parser.TextReader._convert_with_dtype (pandas\\parser.c:13740)\n  File \"pandas\\parser.pyx\", line 1177, in pandas.parser.TextReader._string_convert (pandas\\parser.c:13983)\n  File \"pandas\\parser.pyx\", line 1402, in pandas.parser._string_box_utf8 (pandas\\parser.c:19298)\n",
     "output_type": "error",
     "traceback": [
      "\u001b[0;31m---------------------------------------------------------------------------\u001b[0m",
      "\u001b[0;31mUnicodeDecodeError\u001b[0m                        Traceback (most recent call last)",
      "\u001b[0;32m<ipython-input-7-d0f1953d9b79>\u001b[0m in \u001b[0;36m<module>\u001b[0;34m()\u001b[0m\n\u001b[0;32m----> 1\u001b[0;31m \u001b[0mplayers\u001b[0m \u001b[1;33m=\u001b[0m \u001b[0mdf\u001b[0m\u001b[1;33m.\u001b[0m\u001b[0mcompute\u001b[0m\u001b[1;33m(\u001b[0m\u001b[1;33m)\u001b[0m\u001b[1;33m\u001b[0m\u001b[0m\n\u001b[0m",
      "\u001b[0;32mC:\\Users\\amac\\Anaconda3\\lib\\site-packages\\dask\\base.py\u001b[0m in \u001b[0;36mcompute\u001b[0;34m(self, **kwargs)\u001b[0m\n\u001b[1;32m     84\u001b[0m             \u001b[0mExtra\u001b[0m \u001b[0mkeywords\u001b[0m \u001b[0mto\u001b[0m \u001b[0mforward\u001b[0m \u001b[0mto\u001b[0m \u001b[0mthe\u001b[0m \u001b[0mscheduler\u001b[0m\u001b[0;31m \u001b[0m\u001b[0;31m`\u001b[0m\u001b[0;31m`\u001b[0m\u001b[0mget\u001b[0m\u001b[0;31m`\u001b[0m\u001b[0;31m`\u001b[0m \u001b[0mfunction\u001b[0m\u001b[1;33m.\u001b[0m\u001b[1;33m\u001b[0m\u001b[0m\n\u001b[1;32m     85\u001b[0m         \"\"\"\n\u001b[0;32m---> 86\u001b[0;31m         \u001b[1;32mreturn\u001b[0m \u001b[0mcompute\u001b[0m\u001b[1;33m(\u001b[0m\u001b[0mself\u001b[0m\u001b[1;33m,\u001b[0m \u001b[1;33m**\u001b[0m\u001b[0mkwargs\u001b[0m\u001b[1;33m)\u001b[0m\u001b[1;33m[\u001b[0m\u001b[1;36m0\u001b[0m\u001b[1;33m]\u001b[0m\u001b[1;33m\u001b[0m\u001b[0m\n\u001b[0m\u001b[1;32m     87\u001b[0m \u001b[1;33m\u001b[0m\u001b[0m\n\u001b[1;32m     88\u001b[0m     \u001b[1;33m@\u001b[0m\u001b[0mclassmethod\u001b[0m\u001b[1;33m\u001b[0m\u001b[0m\n",
      "\u001b[0;32mC:\\Users\\amac\\Anaconda3\\lib\\site-packages\\dask\\base.py\u001b[0m in \u001b[0;36mcompute\u001b[0;34m(*args, **kwargs)\u001b[0m\n\u001b[1;32m    177\u001b[0m         \u001b[0mdsk\u001b[0m \u001b[1;33m=\u001b[0m \u001b[0mmerge\u001b[0m\u001b[1;33m(\u001b[0m\u001b[0mvar\u001b[0m\u001b[1;33m.\u001b[0m\u001b[0mdask\u001b[0m \u001b[1;32mfor\u001b[0m \u001b[0mvar\u001b[0m \u001b[1;32min\u001b[0m \u001b[0mvariables\u001b[0m\u001b[1;33m)\u001b[0m\u001b[1;33m\u001b[0m\u001b[0m\n\u001b[1;32m    178\u001b[0m     \u001b[0mkeys\u001b[0m \u001b[1;33m=\u001b[0m \u001b[1;33m[\u001b[0m\u001b[0mvar\u001b[0m\u001b[1;33m.\u001b[0m\u001b[0m_keys\u001b[0m\u001b[1;33m(\u001b[0m\u001b[1;33m)\u001b[0m \u001b[1;32mfor\u001b[0m \u001b[0mvar\u001b[0m \u001b[1;32min\u001b[0m \u001b[0mvariables\u001b[0m\u001b[1;33m]\u001b[0m\u001b[1;33m\u001b[0m\u001b[0m\n\u001b[0;32m--> 179\u001b[0;31m     \u001b[0mresults\u001b[0m \u001b[1;33m=\u001b[0m \u001b[0mget\u001b[0m\u001b[1;33m(\u001b[0m\u001b[0mdsk\u001b[0m\u001b[1;33m,\u001b[0m \u001b[0mkeys\u001b[0m\u001b[1;33m,\u001b[0m \u001b[1;33m**\u001b[0m\u001b[0mkwargs\u001b[0m\u001b[1;33m)\u001b[0m\u001b[1;33m\u001b[0m\u001b[0m\n\u001b[0m\u001b[1;32m    180\u001b[0m \u001b[1;33m\u001b[0m\u001b[0m\n\u001b[1;32m    181\u001b[0m     \u001b[0mresults_iter\u001b[0m \u001b[1;33m=\u001b[0m \u001b[0miter\u001b[0m\u001b[1;33m(\u001b[0m\u001b[0mresults\u001b[0m\u001b[1;33m)\u001b[0m\u001b[1;33m\u001b[0m\u001b[0m\n",
      "\u001b[0;32mC:\\Users\\amac\\Anaconda3\\lib\\site-packages\\dask\\threaded.py\u001b[0m in \u001b[0;36mget\u001b[0;34m(dsk, result, cache, num_workers, **kwargs)\u001b[0m\n\u001b[1;32m     56\u001b[0m     results = get_async(pool.apply_async, len(pool._pool), dsk, result,\n\u001b[1;32m     57\u001b[0m                         \u001b[0mcache\u001b[0m\u001b[1;33m=\u001b[0m\u001b[0mcache\u001b[0m\u001b[1;33m,\u001b[0m \u001b[0mqueue\u001b[0m\u001b[1;33m=\u001b[0m\u001b[0mqueue\u001b[0m\u001b[1;33m,\u001b[0m \u001b[0mget_id\u001b[0m\u001b[1;33m=\u001b[0m\u001b[0m_thread_get_id\u001b[0m\u001b[1;33m,\u001b[0m\u001b[1;33m\u001b[0m\u001b[0m\n\u001b[0;32m---> 58\u001b[0;31m                         **kwargs)\n\u001b[0m\u001b[1;32m     59\u001b[0m \u001b[1;33m\u001b[0m\u001b[0m\n\u001b[1;32m     60\u001b[0m     \u001b[1;32mreturn\u001b[0m \u001b[0mresults\u001b[0m\u001b[1;33m\u001b[0m\u001b[0m\n",
      "\u001b[0;32mC:\\Users\\amac\\Anaconda3\\lib\\site-packages\\dask\\async.py\u001b[0m in \u001b[0;36mget_async\u001b[0;34m(apply_async, num_workers, dsk, result, cache, queue, get_id, raise_on_exception, rerun_exceptions_locally, callbacks, **kwargs)\u001b[0m\n\u001b[1;32m    479\u001b[0m                     \u001b[0m_execute_task\u001b[0m\u001b[1;33m(\u001b[0m\u001b[0mtask\u001b[0m\u001b[1;33m,\u001b[0m \u001b[0mdata\u001b[0m\u001b[1;33m)\u001b[0m  \u001b[1;31m# Re-execute locally\u001b[0m\u001b[1;33m\u001b[0m\u001b[0m\n\u001b[1;32m    480\u001b[0m                 \u001b[1;32melse\u001b[0m\u001b[1;33m:\u001b[0m\u001b[1;33m\u001b[0m\u001b[0m\n\u001b[0;32m--> 481\u001b[0;31m                     \u001b[1;32mraise\u001b[0m\u001b[1;33m(\u001b[0m\u001b[0mremote_exception\u001b[0m\u001b[1;33m(\u001b[0m\u001b[0mres\u001b[0m\u001b[1;33m,\u001b[0m \u001b[0mtb\u001b[0m\u001b[1;33m)\u001b[0m\u001b[1;33m)\u001b[0m\u001b[1;33m\u001b[0m\u001b[0m\n\u001b[0m\u001b[1;32m    482\u001b[0m             \u001b[0mstate\u001b[0m\u001b[1;33m[\u001b[0m\u001b[1;34m'cache'\u001b[0m\u001b[1;33m]\u001b[0m\u001b[1;33m[\u001b[0m\u001b[0mkey\u001b[0m\u001b[1;33m]\u001b[0m \u001b[1;33m=\u001b[0m \u001b[0mres\u001b[0m\u001b[1;33m\u001b[0m\u001b[0m\n\u001b[1;32m    483\u001b[0m             \u001b[0mfinish_task\u001b[0m\u001b[1;33m(\u001b[0m\u001b[0mdsk\u001b[0m\u001b[1;33m,\u001b[0m \u001b[0mkey\u001b[0m\u001b[1;33m,\u001b[0m \u001b[0mstate\u001b[0m\u001b[1;33m,\u001b[0m \u001b[0mresults\u001b[0m\u001b[1;33m,\u001b[0m \u001b[0mkeyorder\u001b[0m\u001b[1;33m.\u001b[0m\u001b[0mget\u001b[0m\u001b[1;33m)\u001b[0m\u001b[1;33m\u001b[0m\u001b[0m\n",
      "\u001b[0;31mUnicodeDecodeError\u001b[0m: 'utf-8' codec can't decode byte 0xc6 in position 15: invalid continuation byte\n\nTraceback\n---------\n  File \"C:\\Users\\amac\\Anaconda3\\lib\\site-packages\\dask\\async.py\", line 263, in execute_task\n    result = _execute_task(task, data)\n  File \"C:\\Users\\amac\\Anaconda3\\lib\\site-packages\\dask\\async.py\", line 245, in _execute_task\n    return func(*args2)\n  File \"C:\\Users\\amac\\Anaconda3\\lib\\site-packages\\dask\\compatibility.py\", line 47, in apply\n    return func(*args, **kwargs)\n  File \"C:\\Users\\amac\\Anaconda3\\lib\\site-packages\\dask\\dataframe\\csv.py\", line 47, in bytes_read_csv\n    df = pd.read_csv(bio, **kwargs)\n  File \"C:\\Users\\amac\\Anaconda3\\lib\\site-packages\\pandas\\io\\parsers.py\", line 562, in parser_f\n    return _read(filepath_or_buffer, kwds)\n  File \"C:\\Users\\amac\\Anaconda3\\lib\\site-packages\\pandas\\io\\parsers.py\", line 325, in _read\n    return parser.read()\n  File \"C:\\Users\\amac\\Anaconda3\\lib\\site-packages\\pandas\\io\\parsers.py\", line 815, in read\n    ret = self._engine.read(nrows)\n  File \"C:\\Users\\amac\\Anaconda3\\lib\\site-packages\\pandas\\io\\parsers.py\", line 1314, in read\n    data = self._reader.read(nrows)\n  File \"pandas\\parser.pyx\", line 805, in pandas.parser.TextReader.read (pandas\\parser.c:8748)\n  File \"pandas\\parser.pyx\", line 827, in pandas.parser.TextReader._read_low_memory (pandas\\parser.c:9003)\n  File \"pandas\\parser.pyx\", line 904, in pandas.parser.TextReader._read_rows (pandas\\parser.c:10022)\n  File \"pandas\\parser.pyx\", line 1011, in pandas.parser.TextReader._convert_column_data (pandas\\parser.c:11397)\n  File \"pandas\\parser.pyx\", line 1058, in pandas.parser.TextReader._convert_tokens (pandas\\parser.c:12093)\n  File \"pandas\\parser.pyx\", line 1157, in pandas.parser.TextReader._convert_with_dtype (pandas\\parser.c:13740)\n  File \"pandas\\parser.pyx\", line 1177, in pandas.parser.TextReader._string_convert (pandas\\parser.c:13983)\n  File \"pandas\\parser.pyx\", line 1402, in pandas.parser._string_box_utf8 (pandas\\parser.c:19298)\n"
     ]
    }
   ],
   "source": [
    "players = df.compute()"
   ]
  },
  {
   "cell_type": "code",
   "execution_count": null,
   "metadata": {
    "collapsed": true
   },
   "outputs": [],
   "source": []
  },
  {
   "cell_type": "code",
   "execution_count": null,
   "metadata": {
    "collapsed": true
   },
   "outputs": [],
   "source": [
    "file=\"C:\\\\Users\\\\amac\\\\Documents\\\\GoogleDrive\\\\Washu\\\\01-17-Dai\\\\final_data_Katy.dta\"\n",
    "ktfinal = pd.read_stata(file, convert_dates=True, convert_categoricals=True, encoding=None, index=None, convert_missing=False, preserve_dtypes=True, columns=None, order_categoricals=True, chunksize=None, iterator=False)"
   ]
  }
 ],
 "metadata": {
  "anaconda-cloud": {},
  "kernelspec": {
   "display_name": "Python [conda root]",
   "language": "python",
   "name": "conda-root-py"
  },
  "language_info": {
   "codemirror_mode": {
    "name": "ipython",
    "version": 3
   },
   "file_extension": ".py",
   "mimetype": "text/x-python",
   "name": "python",
   "nbconvert_exporter": "python",
   "pygments_lexer": "ipython3",
   "version": "3.5.2"
  }
 },
 "nbformat": 4,
 "nbformat_minor": 1
}
